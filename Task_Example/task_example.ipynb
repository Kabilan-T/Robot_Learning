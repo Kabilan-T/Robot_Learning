{
 "cells": [
  {
   "cell_type": "markdown",
   "id": "773145e4",
   "metadata": {},
   "source": [
    "## Example Task\n",
    "\n",
    "Please sum up the two numbers $A=5$, $B=10$ in the code cell below."
   ]
  },
  {
   "cell_type": "code",
   "execution_count": 1,
   "id": "506e1af5",
   "metadata": {},
   "outputs": [
    {
     "name": "stdout",
     "output_type": "stream",
     "text": [
      "15\n"
     ]
    }
   ],
   "source": [
    "# your solution goes here\n",
    "\n",
    "A = 5\n",
    "B = 10\n",
    "\n",
    "print(A + B)"
   ]
  },
  {
   "cell_type": "code",
   "execution_count": null,
   "id": "ba859ada",
   "metadata": {},
   "outputs": [],
   "source": []
  }
 ],
 "metadata": {
  "kernelspec": {
   "display_name": "rl_kernel_tmp",
   "language": "python",
   "name": "rl_kernel_tmp"
  },
  "language_info": {
   "codemirror_mode": {
    "name": "ipython",
    "version": 3
   },
   "file_extension": ".py",
   "mimetype": "text/x-python",
   "name": "python",
   "nbconvert_exporter": "python",
   "pygments_lexer": "ipython3",
   "version": "3.8.12"
  }
 },
 "nbformat": 4,
 "nbformat_minor": 5
}
