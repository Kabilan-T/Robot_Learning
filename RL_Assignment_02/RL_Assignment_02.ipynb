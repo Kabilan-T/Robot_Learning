{
 "cells": [
  {
   "cell_type": "markdown",
   "metadata": {},
   "source": [
    "### Robot Learning\n",
    "\n",
    "### Assignment 2\n",
    "\n",
    "Solutions are due on 26.04.2022 before the lecture."
   ]
  },
  {
   "cell_type": "markdown",
   "metadata": {},
   "source": [
    "### Introduction\n",
    "\n",
    "Consider the following $9 \\times 9$ grid world:"
   ]
  },
  {
   "cell_type": "markdown",
   "metadata": {},
   "source": [
    "<img src=\"helpers/gridworld_sketch_legend.png\" alt=\"Grid World\" title=\"Grid World\" width=\"650\"/>"
   ]
  },
  {
   "cell_type": "markdown",
   "metadata": {},
   "source": [
    "The agent may start in any cell that is not an obstacle nor the goal.\n",
    "\n",
    "It can choose between eight actions, which correspond to moving to the directions \n",
    "\n",
    "$$a_i \\in \\{NW,      N,      NE,     E,     SE,    S,     SW,     W\\}$$\n",
    "\n",
    "These are indexed according to the order above, i.e. $a_0 = NW$ and $a_6 = SW$.\n",
    "\n",
    "The agent must be careful, for the actions are non-deterministic! The agent moves with probability $0.7$ into the desired\n",
    "direction, but with probability $0.2$ deviates $45^{\\circ}$ to the left and with probability $0.1$ deviates $45^{\\circ}$ \n",
    "to the right of the desired direction due to treacherous gusts unexpectedly sweeping the grid.\n",
    "\n",
    "The rewards are structured as follows:\n",
    "\n",
    "* When it reaches a blue cell, it receives a little snack of 15 points.\n",
    "\n",
    "* When it attempts to enter a red obstacle cell, it receives -30 points and stays in the cell it came from.\n",
    "\n",
    "* When it attempts to leave the grid, it receives -30 points and stays in the cell it came from.\n",
    "\n",
    "* When the agent reaches the green goal cell, it receives 150 points and the episode ends.\n",
    "\n",
    "* All other actions entering a white cell receive -1 point."
   ]
  },
  {
   "cell_type": "markdown",
   "metadata": {},
   "source": [
    "## Task 2.1\n",
    "\n",
    "To familiarize yourself with the environment above, answer the following questions:\n",
    "\n",
    "* The agent is at $s = (y_s, x_s) = (3, 5)$ and wants to execute $a_5$. What is the probability $P^a_{s,s'}$ for $s' =(4,6)$?\n",
    "\n",
    "\n",
    "* The agent is at $s = (3, 7)$ and wants to execute $a_3$. What is the expected value of the reward?\n",
    "\n",
    "<div style=\"text-align: right; font-weight:bold\"> 1 + 2 = 3 Points </div>"
   ]
  },
  {
   "cell_type": "markdown",
   "metadata": {},
   "source": [
    "1. $s' =(4,6)$ is $45^{\\circ}$ left to the direction of the desired action. So the probability of state change $P^a_{s,s'}= 0.2$\n",
    "2. Expected reward, $$ R = \\sum_{s'}P^a_{s,s'}R^a_{s,s'}$$\n",
    "$$ R = (0.2 \\times -1)+(0.7 \\times 150)+(0.1 \\times -1) $$\n",
    "$$ R = 149.7 $$"
   ]
  },
  {
   "cell_type": "markdown",
   "metadata": {},
   "source": [
    "## Task 2.2)\n",
    "\n",
    "Using the *Iterative Policy Evaluation* Algorithm, compute the value $V^{\\pi}(s)$ of all accessible cells $s$ for a policy $\\pi(s,a)$ that chooses with probability $0.5$ a random action and otherwise attempts to move to the right.\n",
    "\n",
    "Intialize $V(s)$ with zero, use a discount parameter of $\\gamma=0.9$ and show your results by printing your state values $V^{\\pi}(s)$.\n",
    "\n",
    "<div style=\"text-align: right; font-weight:bold\"> 5 Points </div>\n",
    "\n",
    "#### Note\n",
    "\n",
    "For your convenience, you are provided the helper function *getNextStatesRewardsAndProbabilities(state, action)* which returns for a given state $s$ and an action $a$ a list of 3 -tuples of the form\n",
    "\n",
    "$$[(s_0', R^a_{s,s_0'}, P^a_{s,s_0'}), (s_1', R^a_{s,s_1'}, P^a_{s,s_1'}), \\dots]$$\n",
    "\n",
    "where $s_i'$ are all future states with $P^a_{s,s_i'} \\neq 0$. Here $s = (y, x)$ and $s_i' = (y_i', x_i')$ are both tuples of integers, $a \\in {0, \\dots, 7}$ is an integer, and $R^a_{s,s_i'}$, $P^a_{s,s_i'}$ are both floats.\n",
    "\n",
    "Also, please find below some data structures which you might find helpful. Create code and text cells as necessary to present your solution!\n",
    "\n",
    "In your implementation, $V(s)$ should be a $9 \\times 9$ numpy array and $\\pi(s,a)$ should be a $9 \\times 9 \\times 8$ numpy array, where $\\sum_a \\pi(s,a) = 1$ for all s!"
   ]
  },
  {
   "cell_type": "code",
   "execution_count": 1,
   "metadata": {},
   "outputs": [
    {
     "name": "stdout",
     "output_type": "stream",
     "text": [
      "sPrime: (0, 0) R: -30.0 P: 0.2\n",
      "sPrime: (0, 1) R: 15.0 P: 0.7\n",
      "sPrime: (1, 1) R: -1.0 P: 0.1\n"
     ]
    }
   ],
   "source": [
    "import numpy as np\n",
    "from helpers.utils import getNextStatesRewardsAndProbabilities\n",
    "%matplotlib inline\n",
    "\n",
    "#this is a list of all states\n",
    "states = [(y,x) for y in range(9) for x in range(9)]\n",
    "#this is a list of all states containing obstacles\n",
    "obstacles = [(1,5), (1,7), (2,1), (2,2), (2,3), (2,4), (2,5), (2,7),\\\n",
    "             (3,1), (3,6), (4,3), (4,4), (4,5), (5,7), \\\n",
    "             (6,1), (6,2), (6,3), (6,4), (6,5), (6,6), \\\n",
    "             (7,8), (8,4), (8,8)]\n",
    "#this is a list containing all blue cells\n",
    "snacks = [(0,0), (0,1), (0,2), (0,7), (0,8), (1,8), \\\n",
    "         (3,2), (3,3), (3,4), (3,5), (4,2), \\\n",
    "         (7,1), (7,2), (7,3), (7,4), (7,5), (7,6), \\\n",
    "         (8,1), (8,2), (8,3), (8,5), (8,6)]\n",
    "#this is a list containing all goal states\n",
    "terminalStates = [(3,8)]\n",
    "#this is an array containing all actions\n",
    "actions = np.array([0, 1, 2, 3, 4, 5, 6, 7]) #[NW,      N,      NE,     E,     SE,    S,     SW,     W]\n",
    "#example of how to unpack getNextStatesRewardsAndProbabilities(state, action):\n",
    "#create dummy state and action\n",
    "s_test = (0,0)\n",
    "a_test = 3\n",
    "#call helper function and loop over the return values\n",
    "for sPrime, R, P in getNextStatesRewardsAndProbabilities(state=s_test, action=a_test):\n",
    "    print('sPrime:', sPrime, 'R:', R, 'P:', P)\n",
    "    \n",
    "#once you have state values V, you can print them with okay'ish formatting like so:\n",
    "#print(\"State Values:\")\n",
    "#print(np.around(V, 1))"
   ]
  },
  {
   "cell_type": "code",
   "execution_count": 2,
   "metadata": {},
   "outputs": [],
   "source": [
    "np.random.seed(100)\n",
    "def define_policy(pi):\n",
    "    '''Defines the policy'''\n",
    "    for s in states:\n",
    "        if np.random.random() < 0.5: \n",
    "            # Picking random action\n",
    "            pi[s][np.random.choice(actions)]=1\n",
    "        else:\n",
    "            # a_3 to move right side of the grid\n",
    "            pi[s][3]=1\n",
    "    return pi"
   ]
  },
  {
   "cell_type": "code",
   "execution_count": 3,
   "metadata": {},
   "outputs": [
    {
     "name": "stdout",
     "output_type": "stream",
     "text": [
      "State Values:\n",
      "[[ -56.8  -56.7 -238.7 -262.  -267.7 -263.9 -256.1 -164.5 -180.7]\n",
      " [-128.8 -168.7 -239.5 -264.9 -300.  -173.5 -180.7 -216.6 -300. ]\n",
      " [-300.  -151.3 -219.5 -239.1 -188.  -173.5 -192.8 -167.5  -94.2]\n",
      " [-214.3 -102.3 -122.1 -153.5 -163.9 -192.3 -115.4 -105.9 -264.5]\n",
      " [-141.5 -151.4 -144.3 -166.1 -182.2 -168.1 -168.2 -234.4 -300. ]\n",
      " [-141.  -154.3 -180.5 -146.3 -154.2 -163.2 -234.1 -259.2 -300. ]\n",
      " [-115.1 -158.2 -141.  -148.  -164.8 -152.7 -233.2 -257.  -279.3]\n",
      " [  54.6   54.3  -70.3  -68.1  -81.3 -132.  -244.3 -250.1 -300. ]\n",
      " [  60.4   50.8 -300.  -230.9 -134.1 -172.7 -121.2 -300.  -300. ]]\n"
     ]
    }
   ],
   "source": [
    "# Initializing V(s) with zeros\n",
    "V = np.zeros((9,9))\n",
    "\n",
    "# Initializing and defining Policy\n",
    "pi = np.zeros((9,9,8))\n",
    "define_policy(pi)\n",
    "\n",
    "# Discount factor\n",
    "gamma = 0.9\n",
    "# Small positive integer\n",
    "theta = 1e-8\n",
    "\n",
    "# Iterative Policy Evaluation algorithm\n",
    "while True:\n",
    "    delta = 0\n",
    "    for state in states:\n",
    "        v = V[state]\n",
    "        update_value = 0\n",
    "        for action in actions:\n",
    "            for sPrime, R, P in getNextStatesRewardsAndProbabilities(state,action):\n",
    "                update_value += pi[state][action] * P * ( R + gamma*V[sPrime])\n",
    "        V[state] = update_value\n",
    "        delta = max(delta,abs(v-V[state]))\n",
    "    if delta < theta:\n",
    "        break\n",
    "\n",
    "# Result\n",
    "print(\"State Values:\")\n",
    "print(np.around(V, 1))"
   ]
  },
  {
   "cell_type": "markdown",
   "metadata": {},
   "source": [
    "## Task 2.3)\n",
    "\n",
    "Now it is time to find a good policy. Use the *Policy Iteration* algorithm to compute the optimal value $V^*(s)$ for each accessible cell.\n",
    "\n",
    "Retrieve the resulting optimal-policy $\\pi^*(s)$. To obtain a greedy policy given $V(s)$, make use of:\n",
    "\n",
    "$$\\pi_{greedy}(s) := \\operatorname{argmax}_a Q(s,a) = \\operatorname{argmax}_a \\sum_{s'}P_{ss'}^a\\cdot[R_{ss'}^a+\\gamma\\cdot V(s')]$$\n",
    "\n",
    "As implied by these terms, we recommend using intermediate state-action $Q$-values, shaped $9 \\times 9 \\times 8$ for this step!\n",
    "\n",
    "Finally, present your results by printing $V^*(s)$ and using our helper function *drawPolicy()* to visualize $\\pi^*(s,a)$.\n",
    "\n",
    "<div style=\"text-align: right; font-weight:bold\"> 5 Points </div>"
   ]
  },
  {
   "cell_type": "code",
   "execution_count": 4,
   "metadata": {},
   "outputs": [],
   "source": [
    "from helpers.utils import drawPolicy\n",
    "#show policy using helper function as below\n",
    "#usage of the helper function, where pi is a (9,9,8) numpy array representing a deterministic policy:\n",
    "#drawPolicy(pi)\n",
    "#deterministic here means that one action per state has probability 1 and all others have probability 0\n",
    "#this will plot arrows representing your policies into the grid world."
   ]
  },
  {
   "cell_type": "code",
   "execution_count": 14,
   "metadata": {},
   "outputs": [
    {
     "data": {
      "image/png": "[encoded data removed]",
      "text/plain": [
       "<Figure size 576x576 with 1 Axes>"
      ]
     },
     "metadata": {
      "needs_background": "light"
     },
     "output_type": "display_data"
    },
    {
     "name": "stdout",
     "output_type": "stream",
     "text": [
      "State Values:\n",
      "[[207.1 228.8 252.3 286.8 318.8 384.8 405.3 467.3 457.4]\n",
      " [216.1 236.4 253.9 283.9 325.2 452.6 446.2 537.5 527.6]\n",
      " [198.2 267.1 312.6 358.9 412.6 452.6 532.4 632.5 626.7]\n",
      " [245.1 294.7 307.1 353.4 407.1 469.4 562.2 632.4 568.4]\n",
      " [255.9 293.2 317.  363.3 407.5 486.4 559.3 633.4 630.5]\n",
      " [255.7 287.5 276.1 335.4 404.  483.5 544.8 560.4 557.5]\n",
      " [234.2 251.5 282.5 341.8 410.4 468.6 468.6 471.4 467.8]\n",
      " [248.8 262.3 280.4 289.4 333.  354.1 399.2 412.8 412.8]\n",
      " [245.9 263.6 274.8 299.3 330.7 363.1 365.8 367.9 354.3]]\n"
     ]
    }
   ],
   "source": [
    "# Initializing V(s) with zeros\n",
    "V = np.zeros((9,9))\n",
    "\n",
    "# Initializing and defining Policy\n",
    "pi = np.zeros((9,9,8))\n",
    "define_policy(pi)\n",
    "\n",
    "# Initilizing Q(s,a) with zeros\n",
    "Q = np.zeros((9,9,8))\n",
    "\n",
    "# Discount factor\n",
    "gamma = 0.9\n",
    "# Small positive integer\n",
    "theta = 1e-8\n",
    "# Flag\n",
    "policy_stable = False \n",
    "\n",
    "# Policy Iteration algorithm\n",
    "while policy_stable is False :\n",
    "    # Policy Evaluation \n",
    "    while True:\n",
    "        delta = 0\n",
    "        for state in states:\n",
    "            v = V[state]\n",
    "            update_value = 0\n",
    "            action = np.argmax(pi[state])\n",
    "            for sPrime, R, P in getNextStatesRewardsAndProbabilities(state,action):\n",
    "                update_value += P * ( R + gamma*V[sPrime])\n",
    "            V[state] = update_value\n",
    "            delta = max(delta,abs(v-V[state]))\n",
    "        if delta < theta:\n",
    "            break\n",
    "    # Policy Improvement\n",
    "    policy_stable = True\n",
    "    for state in states:   \n",
    "        for action in actions:\n",
    "            for sPrime, R, P in getNextStatesRewardsAndProbabilities(state,action):\n",
    "                Q[state][action] += P * ( R + gamma*V[sPrime])\n",
    "        b = np.argmax(pi[state])\n",
    "        if b != np.argmax(Q[state]):\n",
    "            pi[state][np.argmax(pi[state])] = 0\n",
    "            pi[state][np.argmax(Q[state])]  = 1 \n",
    "            policy_stable = False \n",
    "    \n",
    "# Result\n",
    "drawPolicy(pi)\n",
    "print(\"State Values:\")\n",
    "print(np.around(V, 1))"
   ]
  },
  {
   "cell_type": "markdown",
   "metadata": {},
   "source": [
    "## Task 2.4)\n",
    "\n",
    "Verify your results from the previous task by using the *Value Iteration* algorithm to compute the optimal value $V^*(s)$ for each cell. Make sure to reinitialize $V(s)$ with zero.\n",
    "\n",
    "Finally, present your results by printing $V^*(s)$ and using our helper function *drawPolicy()* to visualize $\\pi^*(s,a)$.\n",
    "\n",
    "<div style=\"text-align: right; font-weight:bold\"> 4 Points </div>"
   ]
  },
  {
   "cell_type": "code",
   "execution_count": 6,
   "metadata": {},
   "outputs": [
    {
     "data": {
      "image/png": "[encoded data removed]",
      "text/plain": [
       "<Figure size 576x576 with 1 Axes>"
      ]
     },
     "metadata": {
      "needs_background": "light"
     },
     "output_type": "display_data"
    },
    {
     "name": "stdout",
     "output_type": "stream",
     "text": [
      "State Values:\n",
      "[[211.8 228.8 252.3 286.8 318.8 384.8 405.3 467.3 457.4]\n",
      " [217.  236.4 253.9 283.9 325.2 452.6 446.2 537.5 527.6]\n",
      " [202.3 267.1 312.6 358.9 412.6 452.6 532.4 632.5 626.7]\n",
      " [245.8 294.8 307.1 353.4 407.1 469.4 562.2 632.4 568.4]\n",
      " [256.8 294.1 317.  363.3 417.  486.4 559.3 633.4 630.5]\n",
      " [256.4 288.5 285.6 335.4 404.  483.5 544.8 560.4 557.5]\n",
      " [246.2 252.6 284.4 341.8 410.4 468.6 468.6 471.4 467.8]\n",
      " [249.3 263.2 280.6 289.6 333.1 354.3 399.2 412.8 412.8]\n",
      " [246.4 264.  276.1 299.4 333.1 363.3 367.3 368.1 354.3]]\n"
     ]
    }
   ],
   "source": [
    "# Initializing V(s) with zeros\n",
    "V = np.zeros((9,9))\n",
    "\n",
    "# Initializing and defining Policy\n",
    "pi = np.zeros((9,9,8))\n",
    "define_policy(pi)\n",
    "\n",
    "# Initilizing Q(s,a) with zeros\n",
    "Q = np.zeros((9,9,8))\n",
    "\n",
    "# Discount factor\n",
    "gamma = 0.9\n",
    "# Small positive integer\n",
    "theta = 1e-8\n",
    "\n",
    "# Value Iteration algorithm\n",
    "# Truncated Policy Evaluation \n",
    "while True:\n",
    "    delta = 0\n",
    "    for state in states:\n",
    "        v = V[state]\n",
    "        update_values = list() \n",
    "        for action in actions:\n",
    "            update_value = 0 \n",
    "            for sPrime, R, P in getNextStatesRewardsAndProbabilities(state,action):\n",
    "                update_value += P * ( R + gamma*V[sPrime])\n",
    "            update_values.append(update_value)\n",
    "        V[state] = max(update_values)\n",
    "        delta = max(delta,abs(v-V[state]))\n",
    "    if delta < theta:\n",
    "        break\n",
    "# Policy Improvement\n",
    "for state in states:\n",
    "    for action in actions:\n",
    "        for sPrime, R, P in getNextStatesRewardsAndProbabilities(state,action):\n",
    "            Q[state][action] += P * ( R + gamma*V[sPrime])\n",
    "    pi[state][np.argmax(pi[state])] = 0\n",
    "    pi[state][np.argmax(Q[state])]  = 1         \n",
    "        \n",
    "# Result\n",
    "drawPolicy(pi)\n",
    "print(\"State Values:\")\n",
    "print(np.around(V, 1))"
   ]
  },
  {
   "cell_type": "markdown",
   "metadata": {},
   "source": [
    "## Task 2.5)\n",
    "\n",
    "Modify your implementation of *Value Iteration* or *Policy Iteration* to ignore the random deviations in the environment. This can be achieved by calling *getNextStatesRewardsAndProbabilities(state, action, deviation=False)*.\n",
    "\n",
    "Present your results by printing $V^*(s)$ and using our helper function *drawPolicy()* to visualize $\\pi^*(s,a)$. How and why have your state values and policy changed?\n",
    "\n",
    "<div style=\"text-align: right; font-weight:bold\"> 3 Points </div>"
   ]
  },
  {
   "cell_type": "code",
   "execution_count": 7,
   "metadata": {},
   "outputs": [
    {
     "data": {
      "image/png": "[encoded data removed]",
      "text/plain": [
       "<Figure size 576x576 with 1 Axes>"
      ]
     },
     "metadata": {
      "needs_background": "light"
     },
     "output_type": "display_data"
    },
    {
     "name": "stdout",
     "output_type": "stream",
     "text": [
      "State Values:\n",
      "[[362.5 386.1 412.4 459.3 511.4 569.4 599.8 649.7 649.7]\n",
      " [362.5 386.1 412.4 459.3 511.4 633.7 633.7 705.3 705.3]\n",
      " [376.7 467.4 502.6 541.8 585.4 633.7 705.3 784.7 784.7]\n",
      " [419.6 467.4 502.6 541.8 585.4 633.7 705.3 784.7 705.3]\n",
      " [419.6 467.4 502.6 541.8 585.4 633.7 705.3 784.7 784.7]\n",
      " [419.6 467.4 467.4 511.4 569.4 633.7 705.3 705.3 705.3]\n",
      " [419.6 419.6 459.3 511.4 569.4 633.7 633.7 633.7 633.7]\n",
      " [376.7 397.6 425.1 455.7 489.7 527.4 569.4 569.4 569.4]\n",
      " [372.9 397.6 425.1 455.7 489.7 527.4 527.4 527.4 511.4]]\n"
     ]
    }
   ],
   "source": [
    "# Initializing V(s) with zeros\n",
    "V = np.zeros((9,9))\n",
    "\n",
    "# Initializing and defining Policy\n",
    "pi = np.zeros((9,9,8))\n",
    "define_policy(pi)\n",
    "\n",
    "# Initilizing Q(s,a) with zeros\n",
    "Q = np.zeros((9,9,8))\n",
    "\n",
    "# Discount factor\n",
    "gamma = 0.9\n",
    "# Small positive integer\n",
    "theta = 1e-8\n",
    "\n",
    "# Value Iteration algorithm\n",
    "# Truncated Policy Evaluation \n",
    "while True:\n",
    "    delta = 0\n",
    "    for state in states:\n",
    "        v = V[state]\n",
    "        update_values = list() \n",
    "        for action in actions:\n",
    "            update_value = 0 \n",
    "            for sPrime, R, P in getNextStatesRewardsAndProbabilities(state,action,deviation=False):\n",
    "                update_value += P * ( R + gamma*V[sPrime])\n",
    "            update_values.append(update_value)\n",
    "        V[state] = max(update_values)\n",
    "        delta = max(delta,abs(v-V[state]))\n",
    "    if delta < theta:\n",
    "        break\n",
    "# Policy Improvement\n",
    "for state in states:\n",
    "    for action in actions:\n",
    "        for sPrime, R, P in getNextStatesRewardsAndProbabilities(state,action,deviation=False):\n",
    "            Q[state][action] += P * ( R + gamma*V[sPrime])\n",
    "    pi[state][np.argmax(pi[state])] = 0\n",
    "    pi[state][np.argmax(Q[state])]  = 1         \n",
    "        \n",
    "\n",
    "# Result\n",
    "drawPolicy(pi)\n",
    "print(\"State Values:\")\n",
    "print(np.around(V, 1))"
   ]
  },
  {
   "cell_type": "markdown",
   "metadata": {},
   "source": [
    "#### Policy change\n",
    "- The optimal policy in task $2.4$ chooses to move away from obstacle or grid boundries. but the policy in the task $2.5$ doesn't follow this. \n",
    "- Lets take the example of the state $s =(7,0)$, the optimal policy with deviation chooses $a_4$ because its move away from the boundary of the grid.The optimal policy without deviation chooses $a_1$ to consume more rewards.\n",
    "\n",
    "#### State value change\n",
    "- In task $2.3$, the state value for states at the gird boundary, are far less because of the probability of deviating outside of the grid. Lets take the example of $s=(0,0)$ taking action $a_3$, Its expected reward with deviation is only $4.4$ but without deviation is $15$. Which is same as of the state $s=(1,0)$ taking action $a_2$."
   ]
  },
  {
   "cell_type": "code",
   "execution_count": 8,
   "metadata": {},
   "outputs": [
    {
     "name": "stdout",
     "output_type": "stream",
     "text": [
      "sPrime: (0, 0) R: -30.0 P: 0.2\n",
      "sPrime: (0, 1) R: 15.0 P: 0.7\n",
      "sPrime: (1, 1) R: -1.0 P: 0.1\n"
     ]
    },
    {
     "data": {
      "text/plain": [
       "4.4"
      ]
     },
     "execution_count": 8,
     "metadata": {},
     "output_type": "execute_result"
    }
   ],
   "source": [
    "expected_reward = 0\n",
    "for sPrime, R, P in getNextStatesRewardsAndProbabilities(state=(0,0),action=3):\n",
    "    print('sPrime:', sPrime, 'R:', R, 'P:', P)\n",
    "    expected_reward += P * R\n",
    "expected_reward"
   ]
  },
  {
   "cell_type": "code",
   "execution_count": 9,
   "metadata": {},
   "outputs": [
    {
     "name": "stdout",
     "output_type": "stream",
     "text": [
      "sPrime: (0, 1) R: 15.0 P: 1.0\n"
     ]
    },
    {
     "data": {
      "text/plain": [
       "15.0"
      ]
     },
     "execution_count": 9,
     "metadata": {},
     "output_type": "execute_result"
    }
   ],
   "source": [
    "expected_reward = 0\n",
    "for sPrime, R, P in getNextStatesRewardsAndProbabilities(state=(0,0),action=3,deviation=False):\n",
    "    print('sPrime:', sPrime, 'R:', R, 'P:', P)\n",
    "    expected_reward += P * R\n",
    "expected_reward"
   ]
  },
  {
   "cell_type": "code",
   "execution_count": 10,
   "metadata": {},
   "outputs": [
    {
     "name": "stdout",
     "output_type": "stream",
     "text": [
      "sPrime: (0, 0) R: 15.0 P: 0.2\n",
      "sPrime: (0, 1) R: 15.0 P: 0.7\n",
      "sPrime: (1, 1) R: -1.0 P: 0.1\n"
     ]
    },
    {
     "data": {
      "text/plain": [
       "13.4"
      ]
     },
     "execution_count": 10,
     "metadata": {},
     "output_type": "execute_result"
    }
   ],
   "source": [
    "expected_reward = 0\n",
    "for sPrime, R, P in getNextStatesRewardsAndProbabilities(state=(1,0),action=2):\n",
    "    print('sPrime:', sPrime, 'R:', R, 'P:', P)\n",
    "    expected_reward += P * R\n",
    "expected_reward"
   ]
  },
  {
   "cell_type": "code",
   "execution_count": 11,
   "metadata": {},
   "outputs": [
    {
     "name": "stdout",
     "output_type": "stream",
     "text": [
      "sPrime: (0, 1) R: 15.0 P: 1.0\n"
     ]
    },
    {
     "data": {
      "text/plain": [
       "15.0"
      ]
     },
     "execution_count": 11,
     "metadata": {},
     "output_type": "execute_result"
    }
   ],
   "source": [
    "expected_reward = 0\n",
    "for sPrime, R, P in getNextStatesRewardsAndProbabilities(state=(1,0),action=2,deviation=False):\n",
    "    print('sPrime:', sPrime, 'R:', R, 'P:', P)\n",
    "    expected_reward += P * R\n",
    "expected_reward"
   ]
  }
 ],
 "metadata": {
  "kernelspec": {
   "display_name": "Python 3",
   "language": "python",
   "name": "python3"
  },
  "language_info": {
   "codemirror_mode": {
    "name": "ipython",
    "version": 3
   },
   "file_extension": ".py",
   "mimetype": "text/x-python",
   "name": "python",
   "nbconvert_exporter": "python",
   "pygments_lexer": "ipython3",
   "version": "3.8.10"
  }
 },
 "nbformat": 4,
 "nbformat_minor": 2
}
