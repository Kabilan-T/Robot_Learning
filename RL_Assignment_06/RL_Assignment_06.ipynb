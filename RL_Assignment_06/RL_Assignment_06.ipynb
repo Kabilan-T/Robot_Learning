{
  "nbformat": 4,
  "nbformat_minor": 0,
  "metadata": {
    "colab": {
      "name": "RL_Assignment_06.ipynb",
      "provenance": [],
      "collapsed_sections": [],
      "include_colab_link": true
    },
    "kernelspec": {
      "display_name": "Python 3",
      "language": "python",
      "name": "python3"
    },
    "language_info": {
      "codemirror_mode": {
        "name": "ipython",
        "version": 3
      },
      "file_extension": ".py",
      "mimetype": "text/x-python",
      "name": "python",
      "nbconvert_exporter": "python",
      "pygments_lexer": "ipython3",
      "version": "3.8.5"
    }
  },
  "cells": [
    {
      "cell_type": "markdown",
      "metadata": {
        "id": "view-in-github",
        "colab_type": "text"
      },
      "source": [
        "<a href=\"https://colab.research.google.com/github/Kabilan-T/Robot_Learning/blob/Assignment_Submission_06/RL_Assignment_06/RL_Assignment_06.ipynb\" target=\"_parent\"><img src=\"https://colab.research.google.com/assets/colab-badge.svg\" alt=\"Open In Colab\"/></a>"
      ]
    },
    {
      "cell_type": "markdown",
      "metadata": {
        "id": "42lCQv_4Ztdu"
      },
      "source": [
        "## Robot Learning\n",
        "\n",
        "## Assignment 6\n",
        "\n",
        "Solutions are due on 24.05.2022 before the lecture."
      ]
    },
    {
      "cell_type": "markdown",
      "metadata": {
        "id": "h82ySECHbyST"
      },
      "source": [
        "### Introduction\n",
        "\n",
        "On this assignment sheet, we will use an environment from [OpenAi Gym](https://gym.openai.com/). The setup requires some further packages. Since this installation is not trivial, and we could only test it in our setup, we strongly recommend that you execute the cells in this notebook in [Google Colab](https://research.google.com/colaboratory/). You should find a button which opens this file directly in Colab at the top of this notebook. If not, you can simply import the .ipynb manually. \n",
        "\n",
        "If you have started your Colab session and are ready to proceed, uncomment the two lines in the code cell below. They will install everything required to simulate the Gym environment.\n",
        "\n",
        "**Warning: This is unlikely to work on your own computer, and might even mess up your system! Please only use the following lines in Colab. If you insist on using your own machine, please refer to installation instructions for Gym, torch and the box2d environments for your system.**"
      ]
    },
    {
      "cell_type": "code",
      "metadata": {
        "id": "ILxohiv0bxN5"
      },
      "source": [
        "!apt-get -qq install python-opengl xvfb x11-utils &> /dev/null\n",
        "!pip install box2d-py pyvirtualdisplay moviepy pyglet PyOpenGL-accelerate --quiet &> /dev/null"
      ],
      "execution_count": null,
      "outputs": []
    },
    {
      "cell_type": "markdown",
      "metadata": {
        "id": "-Et0INA7elG1"
      },
      "source": [
        "The following cell imports packages required for the task. "
      ]
    },
    {
      "cell_type": "code",
      "metadata": {
        "id": "BCzDT-u_CqE1",
        "colab": {
          "base_uri": "https://localhost:8080/"
        },
        "outputId": "e04a1ff6-066d-4951-dcec-b0aef195b21f"
      },
      "source": [
        "import numpy as np\n",
        "import gym\n",
        "import matplotlib.pyplot as plt\n",
        "from pyvirtualdisplay import Display\n",
        "from moviepy.editor import VideoClip\n",
        "from moviepy.video.io.bindings import mplfig_to_npimage\n",
        "import torch\n",
        "import torch.nn as nn\n",
        "from tqdm import tqdm\n",
        "import random"
      ],
      "execution_count": null,
      "outputs": [
        {
          "output_type": "stream",
          "name": "stdout",
          "text": [
            "Imageio: 'ffmpeg-linux64-v3.3.1' was not found on your computer; downloading it now.\n",
            "Try 1. Download from https://github.com/imageio/imageio-binaries/raw/master/ffmpeg/ffmpeg-linux64-v3.3.1 (43.8 MB)\n",
            "Downloading: 8192/45929032 bytes (0.0%)\b\b\b\b\b\b\b\b\b\b\b\b\b\b\b\b\b\b\b\b\b\b\b\b\b\b2932736/45929032 bytes (6.4%)\b\b\b\b\b\b\b\b\b\b\b\b\b\b\b\b\b\b\b\b\b\b\b\b\b\b\b\b\b5373952/45929032 bytes (11.7%)\b\b\b\b\b\b\b\b\b\b\b\b\b\b\b\b\b\b\b\b\b\b\b\b\b\b\b\b\b\b7553024/45929032 bytes (16.4%)\b\b\b\b\b\b\b\b\b\b\b\b\b\b\b\b\b\b\b\b\b\b\b\b\b\b\b\b\b\b9658368/45929032 bytes (21.0%)\b\b\b\b\b\b\b\b\b\b\b\b\b\b\b\b\b\b\b\b\b\b\b\b\b\b\b\b\b\b11911168/45929032 bytes (25.9%)\b\b\b\b\b\b\b\b\b\b\b\b\b\b\b\b\b\b\b\b\b\b\b\b\b\b\b\b\b\b\b14336000/45929032 bytes (31.2%)\b\b\b\b\b\b\b\b\b\b\b\b\b\b\b\b\b\b\b\b\b\b\b\b\b\b\b\b\b\b\b16130048/45929032 bytes (35.1%)\b\b\b\b\b\b\b\b\b\b\b\b\b\b\b\b\b\b\b\b\b\b\b\b\b\b\b\b\b\b\b17973248/45929032 bytes (39.1%)\b\b\b\b\b\b\b\b\b\b\b\b\b\b\b\b\b\b\b\b\b\b\b\b\b\b\b\b\b\b\b20193280/45929032 bytes (44.0%)\b\b\b\b\b\b\b\b\b\b\b\b\b\b\b\b\b\b\b\b\b\b\b\b\b\b\b\b\b\b\b22282240/45929032 bytes (48.5%)\b\b\b\b\b\b\b\b\b\b\b\b\b\b\b\b\b\b\b\b\b\b\b\b\b\b\b\b\b\b\b24444928/45929032 bytes (53.2%)\b\b\b\b\b\b\b\b\b\b\b\b\b\b\b\b\b\b\b\b\b\b\b\b\b\b\b\b\b\b\b26222592/45929032 bytes (57.1%)\b\b\b\b\b\b\b\b\b\b\b\b\b\b\b\b\b\b\b\b\b\b\b\b\b\b\b\b\b\b\b28196864/45929032 bytes (61.4%)\b\b\b\b\b\b\b\b\b\b\b\b\b\b\b\b\b\b\b\b\b\b\b\b\b\b\b\b\b\b\b29745152/45929032 bytes (64.8%)\b\b\b\b\b\b\b\b\b\b\b\b\b\b\b\b\b\b\b\b\b\b\b\b\b\b\b\b\b\b\b32120832/45929032 bytes (69.9%)\b\b\b\b\b\b\b\b\b\b\b\b\b\b\b\b\b\b\b\b\b\b\b\b\b\b\b\b\b\b\b33914880/45929032 bytes (73.8%)\b\b\b\b\b\b\b\b\b\b\b\b\b\b\b\b\b\b\b\b\b\b\b\b\b\b\b\b\b\b\b36077568/45929032 bytes (78.6%)\b\b\b\b\b\b\b\b\b\b\b\b\b\b\b\b\b\b\b\b\b\b\b\b\b\b\b\b\b\b\b38313984/45929032 bytes (83.4%)\b\b\b\b\b\b\b\b\b\b\b\b\b\b\b\b\b\b\b\b\b\b\b\b\b\b\b\b\b\b\b40484864/45929032 bytes (88.1%)\b\b\b\b\b\b\b\b\b\b\b\b\b\b\b\b\b\b\b\b\b\b\b\b\b\b\b\b\b\b\b42958848/45929032 bytes (93.5%)\b\b\b\b\b\b\b\b\b\b\b\b\b\b\b\b\b\b\b\b\b\b\b\b\b\b\b\b\b\b\b45367296/45929032 bytes (98.8%)\b\b\b\b\b\b\b\b\b\b\b\b\b\b\b\b\b\b\b\b\b\b\b\b\b\b\b\b\b\b\b45929032/45929032 bytes (100.0%)\n",
            "  Done\n",
            "File saved as /root/.imageio/ffmpeg/ffmpeg-linux64-v3.3.1.\n"
          ]
        }
      ]
    },
    {
      "cell_type": "markdown",
      "metadata": {
        "id": "_-NDX630e0j0"
      },
      "source": [
        "## Task 6.1)\n",
        "\n",
        "Your agent is in state $s_t$ and has the $Q$-values $Q(s_t,a) = [Q(s_t,a_0), Q(s_t,a_1), Q(s_t,a_2), Q(s_t,a_3)] = [4, 2, 0, 7]$. If the agent samples its action according to a probabilistic policy $\\pi(s_t,a)$ which is created by softmax action selection from $Q(s_t,a)$, then what is the probability $Pr(a_3 | s_t)$ of taking action $a_3$ in state $s_t$?\n",
        "\n",
        "<div style=\"text-align: right; font-weight:bold\"> 3 Points </div>"
      ]
    },
    {
      "cell_type": "code",
      "source": [
        "xyz = [4,2,0,7]\n",
        "pi_s_a =[]\n",
        "for i in xyz:\n",
        "  temp_out = np.exp(i)/ (np.exp(4)+np.exp(2)+np.exp(0)+np.exp(7))\n",
        "  pi_s_a.append(temp_out)\n",
        "print(pi_s_a)"
      ],
      "metadata": {
        "colab": {
          "base_uri": "https://localhost:8080/"
        },
        "id": "a_3pwwANUUBv",
        "outputId": "211c5440-dd27-4327-9afa-a9b13fcac790"
      },
      "execution_count": null,
      "outputs": [
        {
          "output_type": "stream",
          "name": "stdout",
          "text": [
            "[0.047082779590401164, 0.00637196131143395, 0.0008623511888556516, 0.9456829079093093]\n"
          ]
        }
      ]
    },
    {
      "cell_type": "markdown",
      "source": [
        "The pi(s,a) will be = [0.04708, 0.00637, 0.00086, 0.94568], the probability of choosing the action a3 from state s_t will be 0.08%"
      ],
      "metadata": {
        "id": "UCDu5oZQU5YX"
      }
    },
    {
      "cell_type": "markdown",
      "metadata": {
        "id": "-ZKGw1p5oPGl"
      },
      "source": [
        "## Task 6.2)\n",
        "\n",
        "In this task, we will combine an actor-critic method like on the previous sheet with a policy gradient algorithm to control an agent in a challenging environment: the Lunar Lander. "
      ]
    },
    {
      "cell_type": "code",
      "metadata": {
        "colab": {
          "base_uri": "https://localhost:8080/"
        },
        "id": "_eQglYE9xZQG",
        "outputId": "ee043676-3f43-41da-907d-a955ae29edf8"
      },
      "source": [
        "# set up showing animations from the environment in Colab.\n",
        "Display(visible=False).start()"
      ],
      "execution_count": null,
      "outputs": [
        {
          "output_type": "execute_result",
          "data": {
            "text/plain": [
              "<pyvirtualdisplay.display.Display at 0x7f0ad62693d0>"
            ]
          },
          "metadata": {},
          "execution_count": 3
        }
      ]
    },
    {
      "cell_type": "markdown",
      "metadata": {
        "id": "UcylDxhAo3vh"
      },
      "source": [
        "Examine the code cell below. It has two distinct purposes:\n",
        "\n",
        "* Showcase the agent-environment interaction for LunarLander-v2\n",
        "\n",
        "* Show how you can capture frames from this environment to animate an episode afterwards.\n",
        "\n",
        "Note that for training an agent in this environment, it is advisable to omit all code corresponding to the rendering. You can seperately render an episode of your agent's play afterwards.\n"
      ]
    },
    {
      "cell_type": "code",
      "metadata": {
        "colab": {
          "base_uri": "https://localhost:8080/"
        },
        "id": "lBjPAxrqb1GO",
        "outputId": "632069ea-c437-441a-fe8c-d48b2b8d07a6"
      },
      "source": [
        "# Name of the environment, if you are having problems you can switch to 'CartPole-v1', which is easier to solve.\n",
        "ENV_NAME = 'LunarLander-v2' #'CartPole-v1' \n",
        "# Dimension of the LunarLander state space. For 'CartPole-v1', use 4 instead\n",
        "ENV_STATE_DIM =  8 # 4\n",
        "# Lunar Lander has 4 discrete actions: [Do Nothing, Fire Left Booster, Fire Main Engine, Fire Right Booster], 'CartPole-v1' has 2\n",
        "ENV_ACTION_DIM = 4 # 2\n",
        "# If the agent reaches this score the task is seen as solved\n",
        "SCORE_TO_SOLVE = 200 # 195\n",
        "MAX_STEPS = None # 500\n",
        "# Create the environment\n",
        "env = gym.make(ENV_NAME)\n",
        "# Reset the environment\n",
        "state = env.reset() # state = [x, y, dx, dy, theta, dtheta, leg1_contact, leg2_contact]\n",
        "# Track whether the episode is over\n",
        "done = False\n",
        "# List to append the frames produced by the environment renderer\n",
        "frames = []\n",
        "while not done:\n",
        "  # Render current situation and append to frames\n",
        "  frames.append(env.render('rgb_array'))\n",
        "  # Select a random action\n",
        "  action = env.action_space.sample()\n",
        "  # Execute this action\n",
        "  state, reward, done, info = env.step(action)\n",
        "# Print the number of frames\n",
        "print('Number of frames:', len(frames))\n",
        "# Prevent the renderer from showing artifacts\n",
        "plt.close()"
      ],
      "execution_count": null,
      "outputs": [
        {
          "output_type": "stream",
          "name": "stdout",
          "text": [
            "Number of frames: 112\n"
          ]
        }
      ]
    },
    {
      "cell_type": "code",
      "metadata": {
        "id": "DoKAmR3onpP1"
      },
      "source": [
        "# Helper function to animate a list of frames as produced above\n",
        "def visualize_trajectory(frames, fps=50):\n",
        "  duration = int(len(frames) // fps + 1)\n",
        "  fig, ax = plt.subplots()\n",
        "  def make_frame(t, ind_max=len(frames)):\n",
        "      ax.clear()\n",
        "      ax.imshow(frames[min((int(fps*t),ind_max-1))])\n",
        "      return mplfig_to_npimage(fig)\n",
        "  plt.close()\n",
        "  return VideoClip(make_frame, duration=duration)"
      ],
      "execution_count": null,
      "outputs": []
    },
    {
      "cell_type": "code",
      "metadata": {
        "colab": {
          "base_uri": "https://localhost:8080/",
          "height": 327
        },
        "id": "ISZEEpkZp04s",
        "outputId": "2b719894-85bc-48ca-e21e-7da955c9f246"
      },
      "source": [
        "# Get the animation from the frames of the played episode\n",
        "animation = visualize_trajectory(frames)\n",
        "# Show the animation\n",
        "animation.ipython_display(fps=50, loop=True, autoplay=True)"
      ],
      "execution_count": null,
      "outputs": [
        {
          "output_type": "stream",
          "name": "stderr",
          "text": [
            " 99%|█████████▉| 150/151 [00:13<00:00, 11.17it/s]\n"
          ]
        },
        {
          "output_type": "execute_result",
          "data": {
            "text/plain": [
              "<moviepy.video.io.html_tools.HTML2 object>"
            ],
            "text/html": [
              "<div align=middle><video loop='True' autoplay='True'src='data:video/mp4;base64,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' controls>Sorry, seems like your browser doesn't support HTML5 audio/video</video></div>"
            ]
          },
          "metadata": {},
          "execution_count": 11
        }
      ]
    },
    {
      "cell_type": "markdown",
      "metadata": {
        "id": "kP6tJzJvrK2b"
      },
      "source": [
        "Probably, the random agent will destroy itself instead of landing between the two flags. We would like you to improve upon this. Below, you are given a neural net with learnable weights $\\theta$ which takes an environment state $s_t$ as input and can output either a state value $V_{\\theta}(s_t)$ or a probability distribution over the actions $\\pi_{\\theta}(s_t,a)$. "
      ]
    },
    {
      "cell_type": "code",
      "metadata": {
        "colab": {
          "base_uri": "https://localhost:8080/"
        },
        "id": "ipdbrnfet58W",
        "outputId": "550248d8-389d-425d-b60c-3d6a5ac1f40f"
      },
      "source": [
        "# If you feel like it, you can, but you do not need to adapt this\n",
        "class DualNet(nn.Module):\n",
        "    def __init__(self, state_dim=ENV_STATE_DIM, action_dim=ENV_ACTION_DIM, hidden_layer_dim=42):\n",
        "        super(DualNet, self).__init__()\n",
        "        # Create some layers to encode the input state\n",
        "        self.layers = [nn.Linear(state_dim, hidden_layer_dim),\n",
        "                       nn.PReLU(num_parameters=hidden_layer_dim)]\n",
        "        # Combine these layers into a net\n",
        "        self.net = nn.Sequential(*self.layers)\n",
        "        # Critic output layers to estimate V from the state encoding\n",
        "        self.critic = nn.Sequential(*[nn.Linear(hidden_layer_dim,1)])\n",
        "        # Actor output layers to estimate pi from the state encoding\n",
        "        self.actor = nn.Sequential(*[nn.Linear(hidden_layer_dim,action_dim),\n",
        "                                        nn.Softmax(dim=-1)])\n",
        "    def forward(self, s, mode):\n",
        "        # Convert input state to tensor\n",
        "        x = torch.tensor(s).float().view(1,-1)\n",
        "        # Encode state\n",
        "        x = self.net(x)\n",
        "        if mode == 'actor':\n",
        "          # Return probability distribution over actions\n",
        "          x = self.actor(x)\n",
        "        else:\n",
        "          # Return estimate of state value\n",
        "          x = self.critic(x)\n",
        "        return x.squeeze()\n",
        "\n",
        "# Example usage:\n",
        "# Create instance of the DualNet class\n",
        "test_net = DualNet()\n",
        "# Create a dummy state, round just for pretty printing\n",
        "test_input = np.around(np.random.rand(ENV_STATE_DIM),2)\n",
        "# Get the actor output\n",
        "actor_out = test_net(test_input, mode='actor')\n",
        "# Get the critic output\n",
        "critic_out = test_net(test_input, mode='critic')\n",
        "print('Dummy Input:', test_input)\n",
        "print('Actor output:', actor_out)\n",
        "print('Critic output:', critic_out)"
      ],
      "execution_count": null,
      "outputs": [
        {
          "output_type": "stream",
          "name": "stdout",
          "text": [
            "Dummy Input: [0.18 0.28 0.   0.76 0.99 0.77 0.07 0.33]\n",
            "Actor output: tensor([0.3069, 0.2153, 0.2334, 0.2444], grad_fn=<SqueezeBackward0>)\n",
            "Critic output: tensor(-0.1552, grad_fn=<SqueezeBackward0>)\n"
          ]
        }
      ]
    },
    {
      "cell_type": "markdown",
      "metadata": {
        "id": "Xbg1wpQStXHL"
      },
      "source": [
        "Now to the task: Play episodes according to the following scheme:\n",
        "\n",
        "* For each visited state $s_t$, store the output of the critic $V_\\theta(s_t)$ in a list.\n",
        "\n",
        "* Select an action $a_t$ by sampling from the distribution $\\pi_{\\theta}(s_t,a)$ output by the actor. In a list, store the log prob of the action: $l_t = log(\\pi_{\\theta}[s_t,a_t])$. \n",
        "\n",
        "* Execute the action and observe the reward $r_{t+1}$ provided by the environment.\n",
        "\n",
        "After each episode, use the stored rewards to calculate the Returns $R_t$ following each state $s_t$ using the discount factor $\\gamma$. Next, calculate for each $t$\n",
        "\n",
        "$$\\delta_t = R_t - V_{\\theta}(s_t)$$\n",
        "\n",
        "Then, calculate the loss of the critic as\n",
        "\n",
        "$$L_{critic} = 0.5 \\sum_t \\delta_t^2$$\n",
        "\n",
        "and the loss of the actor using the log probs as\n",
        "\n",
        "$$L_{actor} = \\sum_t - l_t  \\delta_t$$\n",
        "\n",
        "and finally the total loss\n",
        "\n",
        "$$L = L_{critic} + L_{actor}$$\n",
        "\n",
        "Now, update the parameters $\\theta$ using\n",
        "\n",
        "$$\\theta \\leftarrow \\theta + \\alpha \\nabla_{\\theta}L$$\n",
        "\n",
        "The Lunar Lander problem is considered solved when the agent achieves an average return of 200 over 100 episodes. Solve the problem, or play around 3000 episodes as described above and then report the average return of the final 100 episodes played. This means that you are welcome to preemptively stop training if the average return is sufficient. Then, play one more episode and animate it like in the example above. Use $\\gamma = 0.99$, and $\\alpha \\approx 0.001$ in your experiments. Save your final animation and place it into your sciebo folder along with this notebook. When we tested this in our colab session, the environment was solved after around 1500 steps, taking around 10 minutes of training time. We used a learning rate of $0.005$, but please note that this parameter might be sensitive to the specifics of your implementation.\n",
        "\n",
        "### Hints:\n",
        "\n",
        "Following tips might help you complete this task:\n",
        "\n",
        "* You might need to convert your return $R_t$ to the correct datatype:\n",
        "\n",
        "$$\\delta_t = torch.tensor(R_t) - V_{\\theta}(s_t)$$\n",
        "\n",
        "* If you want to use numpy to sample from $\\pi_{\\theta}(s_t,a)$, you can get a numpy array by calling \n",
        "\n",
        "$$\\pi_{\\theta}(s_t,a).detach().numpy()$$\n",
        "\n",
        "* When you calculate the log probs $l_t$, preserve the torch gradient graph by using the torch function\n",
        "\n",
        "$$l_t = torch.log(\\pi_{\\theta}[s_t,a_t])$$\n",
        "\n",
        "* When you calculate $L_{actor}$, use $\\delta_t.item()$ to ensure that the actor's loss does not directly influence the critic's gradients.\n",
        "\n",
        "* It might be easier to solve the task for the Cart-Pole environment first, just change ENV_NAME, ENV_STATE_DIM and ENV_ACTION_DIM in one of the previous code blocks. \n",
        "\n",
        "* Standardizing the Returns (zero mean and std 1) before calculating $\\delta_t$ can boost performance.\n",
        "\n",
        "* Below you are already given a rough structure for the algorithm. If you stick to it, torch will compute and apply $\\nabla_{\\theta}L$ for you!\n",
        "\n",
        "<div style=\"text-align: right; font-weight:bold\"> 10 +  3 (animation) Points </div>"
      ]
    },
    {
      "cell_type": "code",
      "metadata": {
        "id": "IOXy4HukVgGf",
        "colab": {
          "base_uri": "https://localhost:8080/"
        },
        "outputId": "e0817e41-081e-42d3-f943-a6fb8b29c4e7"
      },
      "source": [
        "import copy\n",
        "# Complete this code or write your own!\n",
        "# Create the environment\n",
        "env = gym.make(ENV_NAME)\n",
        "# Get the combined actor and critic model\n",
        "net = DualNet()\n",
        "# Number of episodes to play, maybe use fewer at first\n",
        "num_iter = 3000\n",
        "# Learning rate for the parameter updates\n",
        "alpha = 1e-3\n",
        "# Discount factor\n",
        "gamma = 0.99\n",
        "# The optimizer will do the gradient updates for you\n",
        "# It needs the trainable parameters and a learning rate\n",
        "optimizer = torch.optim.Adam(net.parameters(), lr=alpha)\n",
        "\n",
        "# This progress_bar is useful to know how far along the training is\n",
        "progress_bar = tqdm(range(num_iter), total=num_iter, position=0, leave=True)\n",
        "# For each episode (episode can be used like an int)\n",
        "for episode in progress_bar:\n",
        "    # Reset the accumulated gradients of the model parameters\n",
        "    optimizer.zero_grad()\n",
        "    # Reset the environment and observe the starting state\n",
        "    s = env.reset()\n",
        "    done = 0\n",
        "    # Collect the following terms during the episode\n",
        "    rewards = []\n",
        "    state_vals = []\n",
        "    log_probs = []\n",
        "    while not done:\n",
        "        # During each Episode:\n",
        "        # Evaluate the critic for s, store it\n",
        "        critic_out = net(s, mode='critic')\n",
        "        # Evaluate the actor for s\n",
        "        actor_out = net(s, mode='actor')\n",
        "        # Sample a from the distribution given by the actor\n",
        "        a = np.random.choice([0,1,2,3], p = actor_out.detach().numpy())\n",
        "        # a=np.argmax(actor_out.detach().numpy())\n",
        "        # print(a, )\n",
        "        # Store log_prob of a\n",
        "        l = torch.log(actor_out[a])\n",
        "        # Execute action a, observe next state, reward and done\n",
        "        s, r, done, _ = env.step(a)\n",
        "        # Store the reward\n",
        "        rewards.append(r)\n",
        "        state_vals.append(critic_out.tolist())\n",
        "        log_probs.append(l)\n",
        " \n",
        "    # After each episode is done\n",
        "    # Calculate the Returns from the episode. Use rewards and gamma\n",
        "    state_vals_o = copy.deepcopy(state_vals)\n",
        "    state_vals_o.insert(0,0)\n",
        "    state_vals_o.pop()\n",
        "    R = np.array(rewards) + gamma * np.array(state_vals)\n",
        "    # You might want to standardize the Returns\n",
        "    R = (R - np.mean(R))/np.std(R)\n",
        "    # Calculate delta_t, L_actor, L_critic\n",
        "    delta_t = torch.tensor(R) - torch.tensor(state_vals_o)\n",
        "    L_critic = 0.5 * torch.sum(delta_t**2)\n",
        "    L_actor = torch.sum(-torch.stack(log_probs)*delta_t)\n",
        "    # Calculate the loss L\n",
        "    L = L_critic + L_actor\n",
        "    # Set the gradients with respect to the parameters\n",
        "    L.backward()\n",
        "    # Update the parameters based on the gradients\n",
        "    optimizer.step()\n",
        "    # If you want your progress bar to print info, you can use the following template\n",
        "    # How often to update info\n",
        "    if episode % 10 == 0:\n",
        "        # When to first update info\n",
        "        if episode > 99:\n",
        "            # List of strings containing info\n",
        "            episode_summary = [f\"{episode+1}:\"] + ['List of',  'further strings you might want in your progress bar']\n",
        "            # Set progress bar\n",
        "            progress_bar.set_description(\"\".join(episode_summary))"
      ],
      "execution_count": null,
      "outputs": [
        {
          "output_type": "stream",
          "name": "stderr",
          "text": [
            "2991:List offurther strings you might want in your progress bar: 100%|██████████| 3000/3000 [12:20<00:00,  4.05it/s]\n"
          ]
        }
      ]
    },
    {
      "cell_type": "code",
      "metadata": {
        "id": "4rDXENdEA5OW",
        "colab": {
          "base_uri": "https://localhost:8080/",
          "height": 344
        },
        "outputId": "d904c789-7132-4425-c814-86f72002fb66"
      },
      "source": [
        " # Your code for showing the results can go here\n",
        "state = env.reset()  # Reset the environment\n",
        "# Track whether the episode is over\n",
        "done = False\n",
        "# List to append the frames produced by the environment renderer\n",
        "frames = []\n",
        "while not done:\n",
        "  # Render current situation and append to frames\n",
        "  frames.append(env.render('rgb_array'))\n",
        "  actor_out = net(state, mode='actor')\n",
        "\n",
        "  # Sample a from the distribution given by the actor\n",
        "  a = np.random.choice([0,1,2,3], p = actor_out.detach().numpy())\n",
        "  \n",
        "  # Execute this action\n",
        "  state, reward, done, info = env.step(action)\n",
        "# Print the number of frames\n",
        "print('Number of frames:', len(frames))\n",
        "# Prevent the renderer from showing artifacts\n",
        "plt.close()\n",
        "# Get the animation from the frames of the played episode\n",
        "animation = visualize_trajectory(frames)\n",
        "# Show the animation\n",
        "animation.ipython_display(fps=50, loop=True, autoplay=True)"
      ],
      "execution_count": null,
      "outputs": [
        {
          "output_type": "stream",
          "name": "stdout",
          "text": [
            "Number of frames: 158\n"
          ]
        },
        {
          "output_type": "stream",
          "name": "stderr",
          "text": [
            "100%|█████████▉| 200/201 [00:17<00:00, 11.21it/s]\n"
          ]
        },
        {
          "output_type": "execute_result",
          "data": {
            "text/plain": [
              "<moviepy.video.io.html_tools.HTML2 object>"
            ],
            "text/html": [
              "<div align=middle><video loop='True' autoplay='True'src='data:video/mp4;base64,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' controls>Sorry, seems like your browser doesn't support HTML5 audio/video</video></div>"
            ]
          },
          "metadata": {},
          "execution_count": 16
        }
      ]
    },
    {
      "cell_type": "markdown",
      "source": [
        "## Task 6.3)\n",
        "\n",
        "In the previous task, you calculate the loss of the policy network as \n",
        "\n",
        "$$L_{actor} = \\sum_t - log(\\pi_{\\theta}[s_t,a_t])  \\delta_t$$\n",
        "\n",
        "with \n",
        "\n",
        "$$\\delta_t = R_t - V_{\\theta}(s_t).$$\n",
        "\n",
        "Give an intuitive explanation why minimizing this term leads to actions with a good outcome being more likely and actions with a bad outcome becoming less likely.\n",
        "\n",
        "<div style=\"text-align: right; font-weight:bold\"> 4 Points </div>"
      ],
      "metadata": {
        "id": "Ut6ld60kHdRt"
      }
    },
    {
      "cell_type": "markdown",
      "source": [
        "\n",
        "The log likelihood is a maximization problem, if we use negative log likelihood then the maximization problem gets \n",
        "converted into equivalent minimization problem. This means miniziming the negative logarithm is equal to maximizing\n",
        "the positive logarithm.\n",
        "\n",
        "For actor, negative logarithm is used because, we want to maximize the outcome of actor. Also, the most of the optimisers \n",
        "in neural net tries to minimize the loss function and so we are using negative log, so that good outcome becomes more \n",
        "likely than bad outcome."
      ],
      "metadata": {
        "id": "4nrV6-_OSQgx"
      }
    },
    {
      "cell_type": "code",
      "source": [
        ""
      ],
      "metadata": {
        "id": "42XlvSDKVL3t"
      },
      "execution_count": null,
      "outputs": []
    }
  ]
}